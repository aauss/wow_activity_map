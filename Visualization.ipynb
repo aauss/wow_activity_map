{
 "cells": [
  {
   "cell_type": "code",
   "execution_count": 1,
   "metadata": {},
   "outputs": [],
   "source": [
    "import pickle\n",
    "import pandas as pd\n",
    "import numpy as np\n",
    "import os\n",
    "import matplotlib.pyplot as plt\n",
    "import cartopy.crs as ccrs\n",
    "from datetime import datetime, timedelta\n",
    "from tqdm import tqdm_notebook as tqdm\n",
    "from sklearn import preprocessing"
   ]
  },
  {
   "cell_type": "code",
   "execution_count": 2,
   "metadata": {},
   "outputs": [],
   "source": [
    "master_df = pickle.load(open('master_df.p', 'rb'))\n",
    "master_df = master_df.iloc[::3]"
   ]
  },
  {
   "cell_type": "code",
   "execution_count": 27,
   "metadata": {},
   "outputs": [],
   "source": [
    "def plot(df,ax, date):\n",
    "    colors = {'America/Chicago': '#02b3e4',\n",
    "              'America/Denver': '#f95c3c' ,\n",
    "              'America/Los_Angeles': '#b86565',\n",
    "              'America/New_York': '#adc9bf',\n",
    "              'America/Sao_Paulo': '#ffc7fd',\n",
    "              'Australia/Melbourne': '#ea3737',\n",
    "               'de_DE': \"#0091ac\",\n",
    "               'en_GB': \"#009980\",\n",
    "               'es_ES': \"#ff813c\",\n",
    "               'fr_FR': \"#ffffe5\",\n",
    "               'it_IT': \"#807dba\",\n",
    "               'pt_PT': \"#737373\",\n",
    "               'ru_RU': \"#230827\"}\n",
    "    coordinates_lat_long = {'America/Chicago': (41.881832, -87.623177),\n",
    "                            'America/Denver': (39.7392358, -104.990251),\n",
    "                            'America/Los_Angeles': (34.052235, -118.243683),\n",
    "                            'America/New_York': (40.730610, -73.935242),\n",
    "                            'America/Sao_Paulo': (-23.533773, -46.625290),\n",
    "                            'Australia/Melbourne': (-37.815018, 144.946014),\n",
    "                            'de_DE': (52.520008, 13.404954),\n",
    "                           'en_GB': (51.509865, -0.118092),\n",
    "                           'es_ES': (40.416775, -3.703790),\n",
    "                           'fr_FR': (48.864716, 2.349014),\n",
    "                           'it_IT': (41.890251, 12.492373),\n",
    "                           'pt_PT': (38.736946, -9.142685),\n",
    "                           'ru_RU': (55.751244, 37.618423)}\n",
    "    fontname = 'Avenir'\n",
    "    fontsize = 28\n",
    "    date_x = -10\n",
    "    date_y = -50\n",
    "    if ax is None:\n",
    "        fig = plt.figure(figsize=(19.2, 10.8))\n",
    "        ax = plt.axes(projection=ccrs.Mercator(central_longitude=0,  \n",
    "                                               min_latitude=-65,\n",
    "                                               max_latitude=70))\n",
    "    os.environ[\"CARTOPY_USER_BACKGROUNDS\"] = \"/anaconda3/envs/wow/lib/python3.7/site-packages/cartopy/BG/\"\n",
    "    ax.background_img(name='BM', resolution='low')\n",
    "    ax.set_extent([-170, 179, -65, 70], crs=ccrs.PlateCarree())\n",
    "    ax.text(date_x, date_y, \n",
    "        f\"{date.strftime('%H:%M UTC')}\", \n",
    "        color='white',\n",
    "        fontname=fontname, fontsize=fontsize*1.3,\n",
    "        transform=ccrs.PlateCarree())\n",
    "    \n",
    "    for timezone in df:\n",
    "        # Get longitudes and latitudes\n",
    "        lats = coordinates_lat_long[timezone][0]\n",
    "        longs = coordinates_lat_long[timezone][1]    \n",
    "\n",
    "\n",
    "        x = df[timezone].loc[date]\n",
    "#         min_max_scaler = preprocessing.MinMaxScaler()\n",
    "#         x_scaled = min_max_scaler.fit_transform(np.reshape(x,(-1,1)))\n",
    "        sizes = np.log(x + 0.0001) * 1500\n",
    "\n",
    "        ax.scatter(longs, lats, s=sizes.astype(int),\n",
    "                   color=colors[timezone], alpha=0.8,\n",
    "                   transform=ccrs.PlateCarree())"
   ]
  },
  {
   "cell_type": "code",
   "execution_count": null,
   "metadata": {
    "scrolled": true
   },
   "outputs": [
    {
     "data": {
      "application/vnd.jupyter.widget-view+json": {
       "model_id": "93f85bc6d0d6423988f0efd6876e414d",
       "version_major": 2,
       "version_minor": 0
      },
      "text/plain": [
       "HBox(children=(IntProgress(value=0, max=481), HTML(value='')))"
      ]
     },
     "metadata": {},
     "output_type": "display_data"
    }
   ],
   "source": [
    "fig = plt.figure(figsize=(19.2, 10.8))\n",
    "ax = plt.axes(projection=ccrs.Mercator(central_longitude=0,\n",
    "                                       min_latitude=-65,\n",
    "                                       max_latitude=70))\n",
    "for i, timestamp in enumerate(tqdm(list(master_df.index))):\n",
    "    plot(master_df, ax, timestamp)\n",
    "    fig.tight_layout(pad=-0.5)\n",
    "    fig.savefig(f\"frames/frame_{i}.png\", dpi=100,     \n",
    "                frameon=False, facecolor='black')\n",
    "    ax.clear()"
   ]
  },
  {
   "cell_type": "code",
   "execution_count": 235,
   "metadata": {},
   "outputs": [],
   "source": []
  },
  {
   "cell_type": "code",
   "execution_count": null,
   "metadata": {},
   "outputs": [],
   "source": []
  },
  {
   "cell_type": "code",
   "execution_count": null,
   "metadata": {},
   "outputs": [],
   "source": []
  }
 ],
 "metadata": {
  "kernelspec": {
   "display_name": "Python 3",
   "language": "python",
   "name": "python3"
  },
  "language_info": {
   "codemirror_mode": {
    "name": "ipython",
    "version": 3
   },
   "file_extension": ".py",
   "mimetype": "text/x-python",
   "name": "python",
   "nbconvert_exporter": "python",
   "pygments_lexer": "ipython3",
   "version": "3.7.1"
  }
 },
 "nbformat": 4,
 "nbformat_minor": 2
}
