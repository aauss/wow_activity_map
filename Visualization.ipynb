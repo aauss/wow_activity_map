{
 "cells": [
  {
   "cell_type": "code",
   "execution_count": 1,
   "metadata": {},
   "outputs": [],
   "source": [
    "import requests\n",
    "import json\n",
    "import pickle\n",
    "import re\n",
    "import pandas as pd\n",
    "import numpy as np\n",
    "from copy import deepcopy\n",
    "from bs4 import BeautifulSoup\n",
    "from tqdm import tqdm_notebook as tqdm"
   ]
  },
  {
   "cell_type": "code",
   "execution_count": 3,
   "metadata": {},
   "outputs": [],
   "source": [
    "wacraft_server_activity = pickle.load(open(\"crawled_server_activity.p\", 'rb'))"
   ]
  },
  {
   "cell_type": "code",
   "execution_count": null,
   "metadata": {},
   "outputs": [],
   "source": [
    "from clean_server_activity import clean\n",
    "clean()"
   ]
  },
  {
   "cell_type": "code",
   "execution_count": 35,
   "metadata": {},
   "outputs": [],
   "source": [
    "cleaned_series = pickle.load(open('cleaned_server_activity.p', 'rb'))"
   ]
  },
  {
   "cell_type": "markdown",
   "metadata": {},
   "source": [
    "# Sort servers by timezone"
   ]
  },
  {
   "cell_type": "code",
   "execution_count": null,
   "metadata": {},
   "outputs": [],
   "source": [
    "blizz_realms_us = pickle.load(open('blizz_realms_us.p', 'rb'))['realms']"
   ]
  },
  {
   "cell_type": "code",
   "execution_count": null,
   "metadata": {},
   "outputs": [],
   "source": [
    "blizz_realms_and_timezone_us = [(blizz_realms_us[i]['name'], blizz_realms_us[i]['timezone']) \n",
    "                                for i in range(len(list(blizz_realms_us)))]\n",
    "blizz_realms_and_timezone_us = pd.DataFrame(blizz_realms_and_timezone_us, columns=['server_name', 'timezone'])"
   ]
  },
  {
   "cell_type": "code",
   "execution_count": null,
   "metadata": {},
   "outputs": [],
   "source": [
    "timezone_dict = blizz_realms_and_timezone_us.groupby(\"timezone\").groups"
   ]
  },
  {
   "cell_type": "code",
   "execution_count": null,
   "metadata": {},
   "outputs": [],
   "source": [
    "# Create a dict with timezone as key and server names as values\n",
    "timezone_dict_to_convert = deepcopy(timezone_dict)\n",
    "timezone_dict = {}\n",
    "for key in timezone_dict_to_convert.keys():\n",
    "    timezone_dict[key] = blizz_realms_and_timezone_us.iloc[timezone_dict_to_convert[key].tolist()]['server_name'].tolist()"
   ]
  },
  {
   "cell_type": "code",
   "execution_count": null,
   "metadata": {},
   "outputs": [],
   "source": [
    "matched_server = set(list(server_names_warcraft_realms_and_dfs.keys())) & set(blizz_realms_and_timezone_us['server_name'].tolist())"
   ]
  },
  {
   "cell_type": "code",
   "execution_count": null,
   "metadata": {},
   "outputs": [],
   "source": [
    "averaged_timezone_dict = deepcopy(timezone_dict)\n",
    "for timezone in averaged_timezone_dict:\n",
    "    running_avg = pd.DataFrame([(np.zeros(24)),(np.zeros(24))], index=['alliance_avg', 'horde_avg']).T\n",
    "    try:\n",
    "        for server in averaged_timezone_dict[timezone]:\n",
    "            running_avg += server_names_warcraft_realms_and_dfs[server]\n",
    "        averaged_timezone_dict[timezone] = running_avg/len(averaged_timezone_dict[timezone])\n",
    "    except KeyError:\n",
    "        pass"
   ]
  },
  {
   "cell_type": "code",
   "execution_count": null,
   "metadata": {},
   "outputs": [],
   "source": [
    "averaged_timezone_dict"
   ]
  },
  {
   "cell_type": "code",
   "execution_count": null,
   "metadata": {},
   "outputs": [],
   "source": [
    "a = pd.DataFrame([(1,2),(np.nan,2)],columns =['lol','rofl'])\n",
    "a"
   ]
  },
  {
   "cell_type": "code",
   "execution_count": null,
   "metadata": {},
   "outputs": [],
   "source": [
    "a.sum(axis=1)"
   ]
  },
  {
   "cell_type": "code",
   "execution_count": null,
   "metadata": {},
   "outputs": [],
   "source": []
  },
  {
   "cell_type": "code",
   "execution_count": null,
   "metadata": {},
   "outputs": [],
   "source": []
  },
  {
   "cell_type": "code",
   "execution_count": null,
   "metadata": {},
   "outputs": [],
   "source": [
    "realms_us_dict = {\"name\":[],\n",
    "                 \"timezone\": [],\n",
    "                 'dataframe': []}\n",
    "for servername, timezone in blizz_realms_and_timezone_us:\n",
    "    if server_timezone_tuple[0] in matched_server:\n",
    "        realms_us_dict[\"name\"].append(servername)\n",
    "        realms_us_dict[\"timezone\"].append(timezone)\n",
    "        \n",
    "        realms_us_dict[\"dataframe\"].append(server_names_warcraft_realms_and_dfs[server_timezone_tuple[0]])     "
   ]
  },
  {
   "cell_type": "code",
   "execution_count": null,
   "metadata": {},
   "outputs": [],
   "source": [
    "df = pd.DataFrame.from_dict(realms_us_dict)"
   ]
  },
  {
   "cell_type": "code",
   "execution_count": null,
   "metadata": {},
   "outputs": [],
   "source": []
  },
  {
   "cell_type": "code",
   "execution_count": null,
   "metadata": {},
   "outputs": [],
   "source": []
  },
  {
   "cell_type": "code",
   "execution_count": null,
   "metadata": {},
   "outputs": [],
   "source": [
    "realms_eu = requests.get(\"https://eu.api.blizzard.com/wow/realm/status?access_token=USrQ2Vy3vjvTs2wAq1rZrF0WQFd26p8J0j\")\n",
    "realms_eu = realms_eu.content.decode('utf-8')\n",
    "realms_eu = json.loads(realms_eu)\n",
    "realms_eu = realms_eu['realms']"
   ]
  },
  {
   "cell_type": "code",
   "execution_count": null,
   "metadata": {},
   "outputs": [],
   "source": [
    "eu_keys = set([realms[i]['locale'] for i in range(len(realms))])\n",
    "eu_server = {}\n",
    "for key in eu_keys:\n",
    "    eu_server[key] = []\n",
    "eu_server\n",
    "for i in range(len(realms_eu)):\n",
    "    eu_server[realms_eu[i]['locale']].append(realms_eu[i]['name'])"
   ]
  },
  {
   "cell_type": "code",
   "execution_count": null,
   "metadata": {},
   "outputs": [],
   "source": [
    "# Match with ID\n",
    "id_per_name = requests.get(\"https://eu.api.blizzard.com/data/wow/realm/?namespace=dynamic-eu&locale=en_US&access_token=USrQ2Vy3vjvTs2wAq1rZrF0WQFd26p8J0j\")\n",
    "id_per_name = json.loads(id_per_name.content.decode('utf-8'))['realms']\n"
   ]
  },
  {
   "cell_type": "code",
   "execution_count": null,
   "metadata": {},
   "outputs": [],
   "source": [
    "name_id_dict = {}\n",
    "for server in id_per_name:\n",
    "    name_id_dict[server['name']] = server['id']"
   ]
  },
  {
   "cell_type": "code",
   "execution_count": null,
   "metadata": {},
   "outputs": [],
   "source": [
    "for key in eu_keys:\n",
    "    print(key, len(eu_server[key]))"
   ]
  },
  {
   "cell_type": "code",
   "execution_count": null,
   "metadata": {},
   "outputs": [],
   "source": [
    "realms_us = requests.get(\"https://us.api.blizzard.com/wow/realm/status?access_token=USrQ2Vy3vjvTs2wAq1rZrF0WQFd26p8J0j\")\n",
    "realms_us = realms_us.content.decode('utf-8')\n",
    "realms_us = json.loads(realms_us)\n",
    "realms_us = realms_us['realms']"
   ]
  },
  {
   "cell_type": "code",
   "execution_count": null,
   "metadata": {},
   "outputs": [],
   "source": []
  }
 ],
 "metadata": {
  "kernelspec": {
   "display_name": "Python 3",
   "language": "python",
   "name": "python3"
  },
  "language_info": {
   "codemirror_mode": {
    "name": "ipython",
    "version": 3
   },
   "file_extension": ".py",
   "mimetype": "text/x-python",
   "name": "python",
   "nbconvert_exporter": "python",
   "pygments_lexer": "ipython3",
   "version": "3.7.1"
  }
 },
 "nbformat": 4,
 "nbformat_minor": 2
}
